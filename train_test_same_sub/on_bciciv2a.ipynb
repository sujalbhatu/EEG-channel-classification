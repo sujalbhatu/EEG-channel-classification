{
 "cells": [
  {
   "cell_type": "code",
   "execution_count": 1,
   "id": "ab2e5b56",
   "metadata": {},
   "outputs": [
    {
     "name": "stdout",
     "output_type": "stream",
     "text": [
      "Device: cpu\n"
     ]
    }
   ],
   "source": [
    "# Imports\n",
    "import os, glob, numpy as np\n",
    "import mne\n",
    "import torch, torch.nn as nn\n",
    "import torch.nn.functional as F\n",
    "from torch.utils.data import DataLoader, TensorDataset\n",
    "from sklearn.metrics import accuracy_score\n",
    "import matplotlib.pyplot as plt\n",
    "\n",
    "# Patch for NumPy–MNE compatibility (NumPy ≥2.0)\n",
    "if hasattr(np, \"fromstring\"):\n",
    "    _orig = np.fromstring\n",
    "    def _safe_fromstring(string, dtype=float, sep=\"\"):\n",
    "        try:\n",
    "            return _orig(string, dtype=dtype, sep=sep)\n",
    "        except ValueError:\n",
    "            if isinstance(string, str):\n",
    "                string = string.encode()\n",
    "            return np.frombuffer(string, dtype=dtype)\n",
    "    np.fromstring = _safe_fromstring\n",
    "\n",
    "# Device\n",
    "device = torch.device('cuda' if torch.cuda.is_available() else 'cpu')\n",
    "print(\"Device:\", device)\n",
    "\n",
    "# Config\n",
    "DATA_ROOT = \"./../BCICIV_2a_gdf\"\n",
    "TARGET_SFREQ = 128.0\n",
    "TMIN, TMAX = 0.0, 4.0\n",
    "NT = int((TMAX - TMIN) * TARGET_SFREQ)\n",
    "BATCH = 32\n",
    "EPOCHS = 80\n",
    "LR = 1e-3\n",
    "PATIENCE = 10\n"
   ]
  },
  {
   "cell_type": "code",
   "execution_count": 4,
   "id": "550d062f",
   "metadata": {},
   "outputs": [
    {
     "name": "stdout",
     "output_type": "stream",
     "text": [
      "Files in folder: 18\n",
      "A01E.gdf\n",
      "A01T.gdf\n",
      "A02E.gdf\n",
      "A02T.gdf\n",
      "A03E.gdf\n",
      "A03T.gdf\n",
      "A04E.gdf\n",
      "A04T.gdf\n",
      "A05E.gdf\n",
      "A05T.gdf\n",
      "A06E.gdf\n",
      "A06T.gdf\n",
      "A07E.gdf\n",
      "A07T.gdf\n",
      "A08E.gdf\n",
      "A08T.gdf\n",
      "A09E.gdf\n",
      "A09T.gdf\n"
     ]
    }
   ],
   "source": [
    "import os\n",
    "DATA_ROOT = \"./../BCICIV_2a_gdf\"   # adjust if needed\n",
    "files = sorted(os.listdir(DATA_ROOT))\n",
    "print(\"Files in folder:\", len(files))\n",
    "for f in files:\n",
    "    print(f)\n",
    "# also check recursively\n",
    "for root,dirs,fs in os.walk(DATA_ROOT):\n",
    "    for f in fs:\n",
    "        if any(tok in f.lower() for tok in (\"label\",\"truth\",\"answer\",\"y\",\"targets\",\".mat\",\".csv\",\".txt\")):\n",
    "            print(\"POSSIBLE LABEL FILE:\", os.path.join(root,f))\n"
   ]
  },
  {
   "cell_type": "code",
   "execution_count": 2,
   "id": "99ed5d31",
   "metadata": {},
   "outputs": [],
   "source": [
    "# Robust BCICIV-2a loader (fixed fallback + clearer prints)\n",
    "import os, re, numpy as np\n",
    "import mne\n",
    "from collections import Counter\n",
    "\n",
    "def load_bci_gdf_robust(path,\n",
    "                        l_freq=8.0, h_freq=30.0,\n",
    "                        target_sfreq=128.0, tmin=0.0, tmax=4.0,\n",
    "                        verbose=True):\n",
    "    \"\"\"\n",
    "    Robust loader for BCICIV_2a .gdf files.\n",
    "    Returns: X (n_trials, n_ch, nt), y (n_trials,), ch_names\n",
    "    \"\"\"\n",
    "    raw = mne.io.read_raw_gdf(path, preload=True, verbose=False)\n",
    "\n",
    "    # 1) ensure unique channel names (avoid MNE duplicate-name surprises)\n",
    "    if len(set(raw.ch_names)) != len(raw.ch_names):\n",
    "        mapping = {old: f\"{old}_{i}\" for i, old in enumerate(raw.ch_names)}\n",
    "        raw.rename_channels(mapping)\n",
    "        if verbose:\n",
    "            print(\"Renamed duplicate channel names to unique names.\")\n",
    "\n",
    "    # 2) filter and resample\n",
    "    raw.filter(l_freq, h_freq, verbose=False)\n",
    "    if abs(raw.info['sfreq'] - target_sfreq) > 1e-3:\n",
    "        raw.resample(target_sfreq, npad='auto', verbose=False)\n",
    "\n",
    "    # 3) picks (EEG only)\n",
    "    picks = mne.pick_types(raw.info, eeg=True, eog=False, exclude='bads')\n",
    "    ch_names = [raw.ch_names[i] for i in picks]\n",
    "    nt = int((tmax - tmin) * target_sfreq)\n",
    "\n",
    "    # 4) annotation descriptions -> counts\n",
    "    ann = raw.annotations\n",
    "    descs = [str(d) for d in ann.description]\n",
    "    desc_counts = Counter(descs)\n",
    "\n",
    "    if verbose:\n",
    "        print(\"Annotation description counts (sample):\", list(desc_counts.items())[:20])\n",
    "\n",
    "    # 5) choose MI event descriptions robustly\n",
    "    # Known boundary/meta codes to exclude\n",
    "    exclude_set = set(['32766', '768', '1023', '1072', '276', '277', '783'])\n",
    "\n",
    "    # Prefer canonical BCICIV-2a cues\n",
    "    preferred = ['769','770','771','772']\n",
    "    found_pref = [p for p in preferred if p in desc_counts]\n",
    "\n",
    "    mi_descs = []\n",
    "    if len(found_pref) == 4:\n",
    "        mi_descs = found_pref\n",
    "        if verbose:\n",
    "            print(\"Found canonical MI cues:\", mi_descs)\n",
    "    else:\n",
    "        # find codes with counts around 72\n",
    "        candidates = [d for d, c in desc_counts.items() if (60 <= c <= 80) and (d not in exclude_set)]\n",
    "        if len(candidates) >= 4:\n",
    "            mi_descs = sorted(candidates, key=lambda s: int(re.search(r'\\d+', s).group()) if re.search(r'\\d+', s) else s)[:4]\n",
    "            if verbose:\n",
    "                print(\"Found MI candidates by count (~72):\", mi_descs, [desc_counts[d] for d in mi_descs])\n",
    "        else:\n",
    "            # final fallback: top-4 frequent non-excluded descriptions\n",
    "            sorted_by_count = sorted(desc_counts.items(), key=lambda x: -x[1])\n",
    "            filtered = [(d,c) for d,c in sorted_by_count if d not in exclude_set]\n",
    "            if len(filtered) >= 4:\n",
    "                mi_descs = [d for d,c in filtered[:4]]\n",
    "                if verbose:\n",
    "                    print(\"Fallback selected top-4 non-boundary descriptions:\", mi_descs, [desc_counts[d] for d in mi_descs])\n",
    "            else:\n",
    "                # Nothing sensible found\n",
    "                if verbose:\n",
    "                    print(\"ERROR: Could not find 4 MI-related annotation descriptions in file:\", path)\n",
    "                    print(\"Available descriptions (all):\", sorted_by_count[:20])\n",
    "                return np.zeros((0,len(picks),nt), dtype=np.float32), np.zeros((0,),dtype=int), ch_names\n",
    "\n",
    "    # 6) deterministic mapping: sort by integer if possible\n",
    "    try:\n",
    "        mi_descs_sorted = sorted(mi_descs, key=lambda s: int(re.search(r'\\d+', s).group()))\n",
    "    except:\n",
    "        mi_descs_sorted = sorted(mi_descs)\n",
    "    desc_to_label = {d: i for i, d in enumerate(mi_descs_sorted)}\n",
    "\n",
    "    if verbose:\n",
    "        print(\"Mapping desc -> label:\", desc_to_label)\n",
    "        print(\"Counts for chosen MI descs:\", {d: desc_counts[d] for d in mi_descs_sorted})\n",
    "\n",
    "    # 7) extract epochs aligned to MI cue onsets\n",
    "    Xs, ys = [], []\n",
    "    sfreq = raw.info['sfreq']\n",
    "    for d, onset in zip(descs, ann.onset):\n",
    "        if d in desc_to_label:\n",
    "            sample = int(round(onset * sfreq))\n",
    "            start = sample + int(round(tmin * sfreq))\n",
    "            stop  = sample + int(round(tmax * sfreq))\n",
    "            if start < 0 or stop > raw.n_times:\n",
    "                continue\n",
    "            data = raw.get_data(picks=picks, start=start, stop=stop)\n",
    "            # fix time length\n",
    "            if data.shape[1] != nt:\n",
    "                if data.shape[1] > nt:\n",
    "                    data = data[:, :nt]\n",
    "                else:\n",
    "                    pad = np.zeros((len(picks), nt - data.shape[1]), dtype=np.float32)\n",
    "                    data = np.hstack([data, pad])\n",
    "            Xs.append(data.astype(np.float32))\n",
    "            ys.append(desc_to_label[d])\n",
    "\n",
    "    if len(Xs) == 0:\n",
    "        if verbose:\n",
    "            print(\"No epochs extracted for MI codes. Returning empty arrays.\")\n",
    "        return np.zeros((0, len(picks), nt), dtype=np.float32), np.zeros((0,), dtype=int), ch_names\n",
    "\n",
    "    X = np.stack(Xs, axis=0)\n",
    "    y = np.array(ys, dtype=int)\n",
    "\n",
    "    if verbose:\n",
    "        print(\"Extracted epochs shape:\", X.shape, \"label distribution:\", np.bincount(y))\n",
    "\n",
    "    return X, y, ch_names\n"
   ]
  },
  {
   "cell_type": "code",
   "execution_count": 3,
   "id": "3dfaf621",
   "metadata": {},
   "outputs": [
    {
     "name": "stdout",
     "output_type": "stream",
     "text": [
      "\n",
      "---- A01 ----\n"
     ]
    },
    {
     "name": "stderr",
     "output_type": "stream",
     "text": [
      "c:\\Users\\Sujal Bhatu\\AppData\\Local\\Programs\\Python\\Python312\\Lib\\contextlib.py:144: RuntimeWarning: Channel names are not unique, found duplicates for: {'EEG'}. Applying running numbers for duplicates.\n",
      "  next(self.gen)\n"
     ]
    },
    {
     "name": "stdout",
     "output_type": "stream",
     "text": [
      "Annotation description counts (sample): [('32766', 9), ('276', 1), ('277', 1), ('1072', 1), ('768', 288), ('772', 72), ('771', 72), ('770', 72), ('769', 72), ('1023', 15)]\n",
      "Found canonical MI cues: ['769', '770', '771', '772']\n",
      "Mapping desc -> label: {'769': 0, '770': 1, '771': 2, '772': 3}\n",
      "Counts for chosen MI descs: {'769': 72, '770': 72, '771': 72, '772': 72}\n",
      "Extracted epochs shape: (288, 25, 512) label distribution: [72 72 72 72]\n"
     ]
    },
    {
     "name": "stderr",
     "output_type": "stream",
     "text": [
      "c:\\Users\\Sujal Bhatu\\AppData\\Local\\Programs\\Python\\Python312\\Lib\\contextlib.py:144: RuntimeWarning: Channel names are not unique, found duplicates for: {'EEG'}. Applying running numbers for duplicates.\n",
      "  next(self.gen)\n"
     ]
    },
    {
     "name": "stdout",
     "output_type": "stream",
     "text": [
      "Annotation description counts (sample): [('32766', 9), ('276', 1), ('277', 1), ('1072', 1), ('768', 288), ('783', 288), ('1023', 7)]\n",
      "ERROR: Could not find 4 MI-related annotation descriptions in file: ./../BCICIV_2a_gdf\\A01E.gdf\n",
      "Available descriptions (all): [('768', 288), ('783', 288), ('32766', 9), ('1023', 7), ('276', 1), ('277', 1), ('1072', 1)]\n",
      "A01 TRAIN shape: (288, 25, 512)  TEST shape: (0, 25, 512)  channels: 25\n",
      " Train class counts: [72 72 72 72]\n",
      "\n",
      "---- A02 ----\n"
     ]
    },
    {
     "name": "stderr",
     "output_type": "stream",
     "text": [
      "c:\\Users\\Sujal Bhatu\\AppData\\Local\\Programs\\Python\\Python312\\Lib\\contextlib.py:144: RuntimeWarning: Channel names are not unique, found duplicates for: {'EEG'}. Applying running numbers for duplicates.\n",
      "  next(self.gen)\n"
     ]
    },
    {
     "name": "stdout",
     "output_type": "stream",
     "text": [
      "Annotation description counts (sample): [('32766', 9), ('276', 1), ('277', 1), ('1072', 1), ('768', 288), ('769', 72), ('770', 72), ('771', 72), ('772', 72), ('1023', 18)]\n",
      "Found canonical MI cues: ['769', '770', '771', '772']\n",
      "Mapping desc -> label: {'769': 0, '770': 1, '771': 2, '772': 3}\n",
      "Counts for chosen MI descs: {'769': 72, '770': 72, '771': 72, '772': 72}\n",
      "Extracted epochs shape: (288, 25, 512) label distribution: [72 72 72 72]\n"
     ]
    },
    {
     "name": "stderr",
     "output_type": "stream",
     "text": [
      "c:\\Users\\Sujal Bhatu\\AppData\\Local\\Programs\\Python\\Python312\\Lib\\contextlib.py:144: RuntimeWarning: Channel names are not unique, found duplicates for: {'EEG'}. Applying running numbers for duplicates.\n",
      "  next(self.gen)\n"
     ]
    },
    {
     "name": "stdout",
     "output_type": "stream",
     "text": [
      "Annotation description counts (sample): [('32766', 9), ('276', 1), ('277', 1), ('1072', 1), ('768', 288), ('783', 288), ('1023', 5)]\n",
      "ERROR: Could not find 4 MI-related annotation descriptions in file: ./../BCICIV_2a_gdf\\A02E.gdf\n",
      "Available descriptions (all): [('768', 288), ('783', 288), ('32766', 9), ('1023', 5), ('276', 1), ('277', 1), ('1072', 1)]\n",
      "A02 TRAIN shape: (288, 25, 512)  TEST shape: (0, 25, 512)  channels: 25\n",
      " Train class counts: [72 72 72 72]\n",
      "\n",
      "---- A03 ----\n"
     ]
    },
    {
     "name": "stderr",
     "output_type": "stream",
     "text": [
      "c:\\Users\\Sujal Bhatu\\AppData\\Local\\Programs\\Python\\Python312\\Lib\\contextlib.py:144: RuntimeWarning: Channel names are not unique, found duplicates for: {'EEG'}. Applying running numbers for duplicates.\n",
      "  next(self.gen)\n"
     ]
    },
    {
     "name": "stdout",
     "output_type": "stream",
     "text": [
      "Annotation description counts (sample): [('32766', 9), ('276', 1), ('277', 1), ('1072', 1), ('768', 288), ('769', 72), ('770', 72), ('771', 72), ('772', 72), ('1023', 18)]\n",
      "Found canonical MI cues: ['769', '770', '771', '772']\n",
      "Mapping desc -> label: {'769': 0, '770': 1, '771': 2, '772': 3}\n",
      "Counts for chosen MI descs: {'769': 72, '770': 72, '771': 72, '772': 72}\n",
      "Extracted epochs shape: (288, 25, 512) label distribution: [72 72 72 72]\n"
     ]
    },
    {
     "name": "stderr",
     "output_type": "stream",
     "text": [
      "c:\\Users\\Sujal Bhatu\\AppData\\Local\\Programs\\Python\\Python312\\Lib\\contextlib.py:144: RuntimeWarning: Channel names are not unique, found duplicates for: {'EEG'}. Applying running numbers for duplicates.\n",
      "  next(self.gen)\n"
     ]
    },
    {
     "name": "stdout",
     "output_type": "stream",
     "text": [
      "Annotation description counts (sample): [('32766', 9), ('276', 1), ('277', 1), ('1072', 1), ('768', 288), ('783', 288), ('1023', 15)]\n",
      "ERROR: Could not find 4 MI-related annotation descriptions in file: ./../BCICIV_2a_gdf\\A03E.gdf\n",
      "Available descriptions (all): [('768', 288), ('783', 288), ('1023', 15), ('32766', 9), ('276', 1), ('277', 1), ('1072', 1)]\n",
      "A03 TRAIN shape: (288, 25, 512)  TEST shape: (0, 25, 512)  channels: 25\n",
      " Train class counts: [72 72 72 72]\n",
      "\n",
      "---- A04 ----\n"
     ]
    },
    {
     "name": "stderr",
     "output_type": "stream",
     "text": [
      "c:\\Users\\Sujal Bhatu\\AppData\\Local\\Programs\\Python\\Python312\\Lib\\contextlib.py:144: RuntimeWarning: Channel names are not unique, found duplicates for: {'EEG'}. Applying running numbers for duplicates.\n",
      "  next(self.gen)\n"
     ]
    },
    {
     "name": "stdout",
     "output_type": "stream",
     "text": [
      "Annotation description counts (sample): [('32766', 7), ('1072', 1), ('768', 288), ('772', 72), ('769', 72), ('770', 72), ('771', 72), ('1023', 26)]\n",
      "Found canonical MI cues: ['769', '770', '771', '772']\n",
      "Mapping desc -> label: {'769': 0, '770': 1, '771': 2, '772': 3}\n",
      "Counts for chosen MI descs: {'769': 72, '770': 72, '771': 72, '772': 72}\n",
      "Extracted epochs shape: (288, 25, 512) label distribution: [72 72 72 72]\n"
     ]
    },
    {
     "name": "stderr",
     "output_type": "stream",
     "text": [
      "c:\\Users\\Sujal Bhatu\\AppData\\Local\\Programs\\Python\\Python312\\Lib\\contextlib.py:144: RuntimeWarning: Channel names are not unique, found duplicates for: {'EEG'}. Applying running numbers for duplicates.\n",
      "  next(self.gen)\n"
     ]
    },
    {
     "name": "stdout",
     "output_type": "stream",
     "text": [
      "Annotation description counts (sample): [('32766', 9), ('276', 1), ('277', 1), ('1072', 1), ('768', 288), ('783', 288), ('1023', 60)]\n",
      "ERROR: Could not find 4 MI-related annotation descriptions in file: ./../BCICIV_2a_gdf\\A04E.gdf\n",
      "Available descriptions (all): [('768', 288), ('783', 288), ('1023', 60), ('32766', 9), ('276', 1), ('277', 1), ('1072', 1)]\n",
      "A04 TRAIN shape: (288, 25, 512)  TEST shape: (0, 25, 512)  channels: 25\n",
      " Train class counts: [72 72 72 72]\n",
      "\n",
      "---- A05 ----\n"
     ]
    },
    {
     "name": "stderr",
     "output_type": "stream",
     "text": [
      "c:\\Users\\Sujal Bhatu\\AppData\\Local\\Programs\\Python\\Python312\\Lib\\contextlib.py:144: RuntimeWarning: Channel names are not unique, found duplicates for: {'EEG'}. Applying running numbers for duplicates.\n",
      "  next(self.gen)\n"
     ]
    },
    {
     "name": "stdout",
     "output_type": "stream",
     "text": [
      "Annotation description counts (sample): [('32766', 9), ('276', 1), ('277', 1), ('1072', 1), ('768', 288), ('1023', 26), ('769', 72), ('770', 72), ('771', 72), ('772', 72)]\n",
      "Found canonical MI cues: ['769', '770', '771', '772']\n",
      "Mapping desc -> label: {'769': 0, '770': 1, '771': 2, '772': 3}\n",
      "Counts for chosen MI descs: {'769': 72, '770': 72, '771': 72, '772': 72}\n",
      "Extracted epochs shape: (288, 25, 512) label distribution: [72 72 72 72]\n"
     ]
    },
    {
     "name": "stderr",
     "output_type": "stream",
     "text": [
      "c:\\Users\\Sujal Bhatu\\AppData\\Local\\Programs\\Python\\Python312\\Lib\\contextlib.py:144: RuntimeWarning: Channel names are not unique, found duplicates for: {'EEG'}. Applying running numbers for duplicates.\n",
      "  next(self.gen)\n"
     ]
    },
    {
     "name": "stdout",
     "output_type": "stream",
     "text": [
      "Annotation description counts (sample): [('32766', 9), ('276', 1), ('277', 1), ('1072', 1), ('768', 288), ('783', 288), ('1023', 12)]\n",
      "ERROR: Could not find 4 MI-related annotation descriptions in file: ./../BCICIV_2a_gdf\\A05E.gdf\n",
      "Available descriptions (all): [('768', 288), ('783', 288), ('1023', 12), ('32766', 9), ('276', 1), ('277', 1), ('1072', 1)]\n",
      "A05 TRAIN shape: (288, 25, 512)  TEST shape: (0, 25, 512)  channels: 25\n",
      " Train class counts: [72 72 72 72]\n",
      "\n",
      "---- A06 ----\n"
     ]
    },
    {
     "name": "stderr",
     "output_type": "stream",
     "text": [
      "c:\\Users\\Sujal Bhatu\\AppData\\Local\\Programs\\Python\\Python312\\Lib\\contextlib.py:144: RuntimeWarning: Channel names are not unique, found duplicates for: {'EEG'}. Applying running numbers for duplicates.\n",
      "  next(self.gen)\n"
     ]
    },
    {
     "name": "stdout",
     "output_type": "stream",
     "text": [
      "Annotation description counts (sample): [('32766', 9), ('276', 1), ('277', 1), ('1072', 1), ('768', 288), ('772', 72), ('770', 72), ('769', 72), ('771', 72), ('1023', 69)]\n",
      "Found canonical MI cues: ['769', '770', '771', '772']\n",
      "Mapping desc -> label: {'769': 0, '770': 1, '771': 2, '772': 3}\n",
      "Counts for chosen MI descs: {'769': 72, '770': 72, '771': 72, '772': 72}\n",
      "Extracted epochs shape: (288, 25, 512) label distribution: [72 72 72 72]\n"
     ]
    },
    {
     "name": "stderr",
     "output_type": "stream",
     "text": [
      "c:\\Users\\Sujal Bhatu\\AppData\\Local\\Programs\\Python\\Python312\\Lib\\contextlib.py:144: RuntimeWarning: Channel names are not unique, found duplicates for: {'EEG'}. Applying running numbers for duplicates.\n",
      "  next(self.gen)\n"
     ]
    },
    {
     "name": "stdout",
     "output_type": "stream",
     "text": [
      "Annotation description counts (sample): [('32766', 9), ('276', 1), ('277', 1), ('1072', 1), ('768', 288), ('783', 288), ('1023', 73)]\n",
      "ERROR: Could not find 4 MI-related annotation descriptions in file: ./../BCICIV_2a_gdf\\A06E.gdf\n",
      "Available descriptions (all): [('768', 288), ('783', 288), ('1023', 73), ('32766', 9), ('276', 1), ('277', 1), ('1072', 1)]\n",
      "A06 TRAIN shape: (288, 25, 512)  TEST shape: (0, 25, 512)  channels: 25\n",
      " Train class counts: [72 72 72 72]\n",
      "\n",
      "---- A07 ----\n"
     ]
    },
    {
     "name": "stderr",
     "output_type": "stream",
     "text": [
      "c:\\Users\\Sujal Bhatu\\AppData\\Local\\Programs\\Python\\Python312\\Lib\\contextlib.py:144: RuntimeWarning: Channel names are not unique, found duplicates for: {'EEG'}. Applying running numbers for duplicates.\n",
      "  next(self.gen)\n"
     ]
    },
    {
     "name": "stdout",
     "output_type": "stream",
     "text": [
      "Annotation description counts (sample): [('32766', 9), ('276', 1), ('277', 1), ('1072', 1), ('768', 288), ('769', 72), ('770', 72), ('771', 72), ('772', 72), ('1023', 17)]\n",
      "Found canonical MI cues: ['769', '770', '771', '772']\n",
      "Mapping desc -> label: {'769': 0, '770': 1, '771': 2, '772': 3}\n",
      "Counts for chosen MI descs: {'769': 72, '770': 72, '771': 72, '772': 72}\n",
      "Extracted epochs shape: (288, 25, 512) label distribution: [72 72 72 72]\n"
     ]
    },
    {
     "name": "stderr",
     "output_type": "stream",
     "text": [
      "c:\\Users\\Sujal Bhatu\\AppData\\Local\\Programs\\Python\\Python312\\Lib\\contextlib.py:144: RuntimeWarning: Channel names are not unique, found duplicates for: {'EEG'}. Applying running numbers for duplicates.\n",
      "  next(self.gen)\n"
     ]
    },
    {
     "name": "stdout",
     "output_type": "stream",
     "text": [
      "Annotation description counts (sample): [('32766', 9), ('276', 1), ('277', 1), ('1072', 1), ('768', 288), ('783', 288), ('1023', 11)]\n",
      "ERROR: Could not find 4 MI-related annotation descriptions in file: ./../BCICIV_2a_gdf\\A07E.gdf\n",
      "Available descriptions (all): [('768', 288), ('783', 288), ('1023', 11), ('32766', 9), ('276', 1), ('277', 1), ('1072', 1)]\n",
      "A07 TRAIN shape: (288, 25, 512)  TEST shape: (0, 25, 512)  channels: 25\n",
      " Train class counts: [72 72 72 72]\n",
      "\n",
      "---- A08 ----\n"
     ]
    },
    {
     "name": "stderr",
     "output_type": "stream",
     "text": [
      "c:\\Users\\Sujal Bhatu\\AppData\\Local\\Programs\\Python\\Python312\\Lib\\contextlib.py:144: RuntimeWarning: Channel names are not unique, found duplicates for: {'EEG'}. Applying running numbers for duplicates.\n",
      "  next(self.gen)\n"
     ]
    },
    {
     "name": "stdout",
     "output_type": "stream",
     "text": [
      "Annotation description counts (sample): [('32766', 9), ('276', 1), ('277', 1), ('1072', 1), ('768', 288), ('769', 72), ('770', 72), ('1023', 24), ('771', 72), ('772', 72)]\n",
      "Found canonical MI cues: ['769', '770', '771', '772']\n",
      "Mapping desc -> label: {'769': 0, '770': 1, '771': 2, '772': 3}\n",
      "Counts for chosen MI descs: {'769': 72, '770': 72, '771': 72, '772': 72}\n",
      "Extracted epochs shape: (288, 25, 512) label distribution: [72 72 72 72]\n"
     ]
    },
    {
     "name": "stderr",
     "output_type": "stream",
     "text": [
      "c:\\Users\\Sujal Bhatu\\AppData\\Local\\Programs\\Python\\Python312\\Lib\\contextlib.py:144: RuntimeWarning: Channel names are not unique, found duplicates for: {'EEG'}. Applying running numbers for duplicates.\n",
      "  next(self.gen)\n"
     ]
    },
    {
     "name": "stdout",
     "output_type": "stream",
     "text": [
      "Annotation description counts (sample): [('32766', 9), ('276', 1), ('277', 1), ('1072', 1), ('768', 288), ('783', 288), ('1023', 17)]\n",
      "ERROR: Could not find 4 MI-related annotation descriptions in file: ./../BCICIV_2a_gdf\\A08E.gdf\n",
      "Available descriptions (all): [('768', 288), ('783', 288), ('1023', 17), ('32766', 9), ('276', 1), ('277', 1), ('1072', 1)]\n",
      "A08 TRAIN shape: (288, 25, 512)  TEST shape: (0, 25, 512)  channels: 25\n",
      " Train class counts: [72 72 72 72]\n",
      "\n",
      "---- A09 ----\n"
     ]
    },
    {
     "name": "stderr",
     "output_type": "stream",
     "text": [
      "c:\\Users\\Sujal Bhatu\\AppData\\Local\\Programs\\Python\\Python312\\Lib\\contextlib.py:144: RuntimeWarning: Channel names are not unique, found duplicates for: {'EEG'}. Applying running numbers for duplicates.\n",
      "  next(self.gen)\n"
     ]
    },
    {
     "name": "stdout",
     "output_type": "stream",
     "text": [
      "Annotation description counts (sample): [('32766', 9), ('276', 1), ('277', 1), ('1072', 1), ('768', 288), ('1023', 51), ('772', 72), ('770', 72), ('769', 72), ('771', 72)]\n",
      "Found canonical MI cues: ['769', '770', '771', '772']\n",
      "Mapping desc -> label: {'769': 0, '770': 1, '771': 2, '772': 3}\n",
      "Counts for chosen MI descs: {'769': 72, '770': 72, '771': 72, '772': 72}\n",
      "Extracted epochs shape: (288, 25, 512) label distribution: [72 72 72 72]\n"
     ]
    },
    {
     "name": "stderr",
     "output_type": "stream",
     "text": [
      "c:\\Users\\Sujal Bhatu\\AppData\\Local\\Programs\\Python\\Python312\\Lib\\contextlib.py:144: RuntimeWarning: Channel names are not unique, found duplicates for: {'EEG'}. Applying running numbers for duplicates.\n",
      "  next(self.gen)\n"
     ]
    },
    {
     "name": "stdout",
     "output_type": "stream",
     "text": [
      "Annotation description counts (sample): [('32766', 9), ('276', 1), ('277', 1), ('1072', 1), ('768', 288), ('783', 288), ('1023', 24)]\n",
      "ERROR: Could not find 4 MI-related annotation descriptions in file: ./../BCICIV_2a_gdf\\A09E.gdf\n",
      "Available descriptions (all): [('768', 288), ('783', 288), ('1023', 24), ('32766', 9), ('276', 1), ('277', 1), ('1072', 1)]\n",
      "A09 TRAIN shape: (288, 25, 512)  TEST shape: (0, 25, 512)  channels: 25\n",
      " Train class counts: [72 72 72 72]\n"
     ]
    }
   ],
   "source": [
    "DATA_ROOT = \"./../BCICIV_2a_gdf\"  # adjust if needed\n",
    "subjects = [f\"A0{i}\" for i in range(1,10)]\n",
    "\n",
    "for subj in subjects:\n",
    "    tpath = os.path.join(DATA_ROOT, subj + \"T.gdf\")\n",
    "    epath = os.path.join(DATA_ROOT, subj + \"E.gdf\")\n",
    "    print(\"\\n----\", subj, \"----\")\n",
    "    Xtr, ytr, chs = load_bci_gdf_robust(tpath, verbose=True)\n",
    "    Xte, yte, _   = load_bci_gdf_robust(epath, verbose=True)\n",
    "    print(f\"{subj} TRAIN shape: {Xtr.shape}  TEST shape: {Xte.shape}  channels: {len(chs)}\")\n",
    "    if ytr.size>0:\n",
    "        print(\" Train class counts:\", np.bincount(ytr))\n",
    "    if yte.size>0:\n",
    "        print(\" Test  class counts:\", np.bincount(yte))\n"
   ]
  },
  {
   "cell_type": "code",
   "execution_count": 3,
   "id": "e862d252",
   "metadata": {},
   "outputs": [],
   "source": [
    "class TFEMBlock(nn.Module):\n",
    "    def __init__(self, nch, F=16, k_t=15, pool=False, pool_k=4, drop=0.25):\n",
    "        super().__init__()\n",
    "        pad_t = (k_t - 1)//2\n",
    "        self.conv = nn.Conv2d(1, F, kernel_size=(1,k_t), padding=(0,pad_t))\n",
    "        self.bn = nn.BatchNorm2d(F)\n",
    "        self.pw = nn.Conv2d(F, 1, kernel_size=1)\n",
    "        self.pool = nn.AvgPool2d((1,pool_k)) if pool else None\n",
    "        self.elu = nn.ELU()\n",
    "        self.drop = nn.Dropout(drop)\n",
    "    def forward(self, x):\n",
    "        b,nch,t = x.shape\n",
    "        x = x.unsqueeze(1)\n",
    "        x = self.conv(x); x = self.bn(x); x = self.elu(x); x = self.pw(x)\n",
    "        if self.pool: x = self.pool(x)\n",
    "        x = self.drop(x)\n",
    "        return x.squeeze(1)\n",
    "\n",
    "class CARM(nn.Module):\n",
    "    def __init__(self, Wref, tdim, drop=0.25):\n",
    "        super().__init__()\n",
    "        self.Wref = Wref\n",
    "        self.Theta = nn.Parameter(torch.randn(tdim, tdim)*0.01)\n",
    "        self.elu = nn.ELU(); self.drop = nn.Dropout(drop)\n",
    "    def forward(self,x):\n",
    "        h = torch.einsum('ij,bjf->bif', self.Wref, x)\n",
    "        out = torch.einsum('bif,fg->big', h, self.Theta)\n",
    "        out = self.elu(out); out = self.drop(out)\n",
    "        return out\n",
    "\n",
    "class EEG_ARNN(nn.Module):\n",
    "    def __init__(self, nch, T0, ncls=4, F=16, pool_k=4, rho=0.001):\n",
    "        super().__init__()\n",
    "        self.nch, self.T0, self.rho = nch, T0, rho\n",
    "        W0 = torch.ones(nch,nch) - torch.eye(nch)\n",
    "        Wt = W0 + torch.eye(nch)\n",
    "        D = Wt.sum(dim=1)\n",
    "        Dinv = torch.diag(1.0/torch.sqrt(D + 1e-12))\n",
    "        self.W = nn.Parameter(Dinv @ Wt @ Dinv)\n",
    "        self.tf1 = TFEMBlock(nch, F=F, k_t=15, pool=False)\n",
    "        self.c1  = CARM(self.W, tdim=T0)\n",
    "        self.tf2 = TFEMBlock(nch, F=F, pool=True, pool_k=pool_k)\n",
    "        T2 = T0//pool_k\n",
    "        self.c2  = CARM(self.W, tdim=T2)\n",
    "        self.tf3 = TFEMBlock(nch, F=F, pool=True, pool_k=pool_k)\n",
    "        T3 = T2//pool_k\n",
    "        self.c3  = CARM(self.W, tdim=T3)\n",
    "        self.fuse = nn.Conv2d(1,16,kernel_size=(nch,1))\n",
    "        self.bn = nn.BatchNorm2d(16)\n",
    "        self.elu = nn.ELU(); self.drop = nn.Dropout(0.25)\n",
    "        self.fc = nn.Linear(16*T3, ncls)\n",
    "    def forward(self,x):\n",
    "        x = self.tf1(x); x = self.c1(x)\n",
    "        x = self.tf2(x); x = self.c2(x)\n",
    "        x = self.tf3(x); x = self.c3(x)\n",
    "        x = x.unsqueeze(1)\n",
    "        x = self.fuse(x); x = self.bn(x); x = self.elu(x); x = self.drop(x)\n",
    "        x = x.squeeze(2)\n",
    "        b,oc,t = x.shape\n",
    "        x = x.view(b, oc*t)\n",
    "        return self.fc(x)\n"
   ]
  },
  {
   "cell_type": "code",
   "execution_count": 4,
   "id": "614f4607",
   "metadata": {},
   "outputs": [],
   "source": [
    "def train_one_epoch(model, loader, opt, crit):\n",
    "    model.train(); total=0; n=0\n",
    "    for xb,yb in loader:\n",
    "        xb,yb = xb.to(device), yb.to(device)\n",
    "        opt.zero_grad()\n",
    "        out = model(xb); loss = crit(out,yb)\n",
    "        loss.backward(); opt.step()\n",
    "        with torch.no_grad():\n",
    "            if model.W.grad is not None:\n",
    "                model.W.data = (1.0 - model.rho)*model.W.data - model.rho*model.W.grad.data\n",
    "                model.W.grad.zero_()\n",
    "        total += loss.item()*xb.size(0); n += xb.size(0)\n",
    "    return total/max(1,n)\n",
    "\n",
    "@torch.no_grad()\n",
    "def evaluate(model, loader):\n",
    "    model.eval(); preds=[]; ys=[]\n",
    "    for xb,yb in loader:\n",
    "        xb=xb.to(device); out=model(xb)\n",
    "        preds.append(out.argmax(1).cpu().numpy())\n",
    "        ys.append(yb.numpy())\n",
    "    preds=np.concatenate(preds); ys=np.concatenate(ys)\n",
    "    return accuracy_score(ys,preds)\n"
   ]
  },
  {
   "cell_type": "code",
   "execution_count": 5,
   "id": "b353d710",
   "metadata": {},
   "outputs": [
    {
     "name": "stdout",
     "output_type": "stream",
     "text": [
      "\n",
      "===== A01 =====\n"
     ]
    },
    {
     "name": "stderr",
     "output_type": "stream",
     "text": [
      "c:\\Users\\Sujal Bhatu\\AppData\\Local\\Programs\\Python\\Python312\\Lib\\contextlib.py:144: RuntimeWarning: Channel names are not unique, found duplicates for: {'EEG'}. Applying running numbers for duplicates.\n",
      "  next(self.gen)\n",
      "c:\\Users\\Sujal Bhatu\\AppData\\Local\\Programs\\Python\\Python312\\Lib\\contextlib.py:144: RuntimeWarning: Channel names are not unique, found duplicates for: {'EEG'}. Applying running numbers for duplicates.\n",
      "  next(self.gen)\n"
     ]
    },
    {
     "name": "stdout",
     "output_type": "stream",
     "text": [
      "Train (18, 25, 512), Test (10, 25, 512)\n",
      "Ep 001 loss=1.3242 test_acc=0.7000\n",
      "Ep 010 loss=0.3561 test_acc=0.7000\n",
      "Early stop @ 11, best 0.7000\n",
      "Subject A01 best acc=0.7000 (epoch 1)\n",
      "\n",
      "===== A02 =====\n"
     ]
    },
    {
     "name": "stderr",
     "output_type": "stream",
     "text": [
      "c:\\Users\\Sujal Bhatu\\AppData\\Local\\Programs\\Python\\Python312\\Lib\\contextlib.py:144: RuntimeWarning: Channel names are not unique, found duplicates for: {'EEG'}. Applying running numbers for duplicates.\n",
      "  next(self.gen)\n",
      "c:\\Users\\Sujal Bhatu\\AppData\\Local\\Programs\\Python\\Python312\\Lib\\contextlib.py:144: RuntimeWarning: Channel names are not unique, found duplicates for: {'EEG'}. Applying running numbers for duplicates.\n",
      "  next(self.gen)\n"
     ]
    },
    {
     "name": "stdout",
     "output_type": "stream",
     "text": [
      "Train (21, 25, 512), Test (8, 25, 512)\n",
      "Ep 001 loss=1.1737 test_acc=0.1250\n",
      "Ep 010 loss=0.6437 test_acc=0.1250\n",
      "Early stop @ 11, best 0.1250\n",
      "Subject A02 best acc=0.1250 (epoch 1)\n",
      "\n",
      "===== A03 =====\n"
     ]
    },
    {
     "name": "stderr",
     "output_type": "stream",
     "text": [
      "c:\\Users\\Sujal Bhatu\\AppData\\Local\\Programs\\Python\\Python312\\Lib\\contextlib.py:144: RuntimeWarning: Channel names are not unique, found duplicates for: {'EEG'}. Applying running numbers for duplicates.\n",
      "  next(self.gen)\n",
      "c:\\Users\\Sujal Bhatu\\AppData\\Local\\Programs\\Python\\Python312\\Lib\\contextlib.py:144: RuntimeWarning: Channel names are not unique, found duplicates for: {'EEG'}. Applying running numbers for duplicates.\n",
      "  next(self.gen)\n"
     ]
    },
    {
     "name": "stdout",
     "output_type": "stream",
     "text": [
      "Train (21, 25, 512), Test (18, 25, 512)\n",
      "Ep 001 loss=1.6647 test_acc=0.0556\n",
      "Ep 010 loss=0.5912 test_acc=0.0556\n",
      "Early stop @ 11, best 0.0556\n",
      "Subject A03 best acc=0.0556 (epoch 1)\n",
      "\n",
      "===== A04 =====\n"
     ]
    },
    {
     "name": "stderr",
     "output_type": "stream",
     "text": [
      "c:\\Users\\Sujal Bhatu\\AppData\\Local\\Programs\\Python\\Python312\\Lib\\contextlib.py:144: RuntimeWarning: Channel names are not unique, found duplicates for: {'EEG'}. Applying running numbers for duplicates.\n",
      "  next(self.gen)\n",
      "c:\\Users\\Sujal Bhatu\\AppData\\Local\\Programs\\Python\\Python312\\Lib\\contextlib.py:144: RuntimeWarning: Channel names are not unique, found duplicates for: {'EEG'}. Applying running numbers for duplicates.\n",
      "  next(self.gen)\n"
     ]
    },
    {
     "name": "stdout",
     "output_type": "stream",
     "text": [
      "Train (322, 25, 512), Test (63, 25, 512)\n",
      "Ep 001 loss=0.5994 test_acc=0.0159\n",
      "Ep 010 loss=0.3090 test_acc=0.0159\n",
      "Early stop @ 11, best 0.0159\n",
      "Subject A04 best acc=0.0159 (epoch 1)\n",
      "\n",
      "===== A05 =====\n"
     ]
    },
    {
     "name": "stderr",
     "output_type": "stream",
     "text": [
      "c:\\Users\\Sujal Bhatu\\AppData\\Local\\Programs\\Python\\Python312\\Lib\\contextlib.py:144: RuntimeWarning: Channel names are not unique, found duplicates for: {'EEG'}. Applying running numbers for duplicates.\n",
      "  next(self.gen)\n",
      "c:\\Users\\Sujal Bhatu\\AppData\\Local\\Programs\\Python\\Python312\\Lib\\contextlib.py:144: RuntimeWarning: Channel names are not unique, found duplicates for: {'EEG'}. Applying running numbers for duplicates.\n",
      "  next(self.gen)\n"
     ]
    },
    {
     "name": "stdout",
     "output_type": "stream",
     "text": [
      "Train (29, 25, 512), Test (15, 25, 512)\n",
      "Ep 001 loss=1.4386 test_acc=0.0667\n",
      "Ep 010 loss=0.3985 test_acc=0.8000\n",
      "Early stop @ 13, best 0.8000\n",
      "Subject A05 best acc=0.8000 (epoch 3)\n",
      "\n",
      "===== A06 =====\n"
     ]
    },
    {
     "name": "stderr",
     "output_type": "stream",
     "text": [
      "c:\\Users\\Sujal Bhatu\\AppData\\Local\\Programs\\Python\\Python312\\Lib\\contextlib.py:144: RuntimeWarning: Channel names are not unique, found duplicates for: {'EEG'}. Applying running numbers for duplicates.\n",
      "  next(self.gen)\n",
      "c:\\Users\\Sujal Bhatu\\AppData\\Local\\Programs\\Python\\Python312\\Lib\\contextlib.py:144: RuntimeWarning: Channel names are not unique, found duplicates for: {'EEG'}. Applying running numbers for duplicates.\n",
      "  next(self.gen)\n"
     ]
    },
    {
     "name": "stdout",
     "output_type": "stream",
     "text": [
      "Train (72, 25, 512), Test (76, 25, 512)\n",
      "Ep 001 loss=1.4198 test_acc=0.0132\n",
      "Ep 010 loss=0.2371 test_acc=0.9605\n",
      "Early stop @ 15, best 0.9605\n",
      "Subject A06 best acc=0.9605 (epoch 5)\n",
      "\n",
      "===== A07 =====\n"
     ]
    },
    {
     "name": "stderr",
     "output_type": "stream",
     "text": [
      "c:\\Users\\Sujal Bhatu\\AppData\\Local\\Programs\\Python\\Python312\\Lib\\contextlib.py:144: RuntimeWarning: Channel names are not unique, found duplicates for: {'EEG'}. Applying running numbers for duplicates.\n",
      "  next(self.gen)\n",
      "c:\\Users\\Sujal Bhatu\\AppData\\Local\\Programs\\Python\\Python312\\Lib\\contextlib.py:144: RuntimeWarning: Channel names are not unique, found duplicates for: {'EEG'}. Applying running numbers for duplicates.\n",
      "  next(self.gen)\n"
     ]
    },
    {
     "name": "stdout",
     "output_type": "stream",
     "text": [
      "Train (20, 25, 512), Test (14, 25, 512)\n",
      "Ep 001 loss=1.3986 test_acc=0.0714\n",
      "Ep 010 loss=0.5947 test_acc=0.7857\n",
      "Early stop @ 13, best 0.7857\n",
      "Subject A07 best acc=0.7857 (epoch 3)\n",
      "\n",
      "===== A08 =====\n"
     ]
    },
    {
     "name": "stderr",
     "output_type": "stream",
     "text": [
      "c:\\Users\\Sujal Bhatu\\AppData\\Local\\Programs\\Python\\Python312\\Lib\\contextlib.py:144: RuntimeWarning: Channel names are not unique, found duplicates for: {'EEG'}. Applying running numbers for duplicates.\n",
      "  next(self.gen)\n",
      "c:\\Users\\Sujal Bhatu\\AppData\\Local\\Programs\\Python\\Python312\\Lib\\contextlib.py:144: RuntimeWarning: Channel names are not unique, found duplicates for: {'EEG'}. Applying running numbers for duplicates.\n",
      "  next(self.gen)\n"
     ]
    },
    {
     "name": "stdout",
     "output_type": "stream",
     "text": [
      "Train (27, 25, 512), Test (20, 25, 512)\n",
      "Ep 001 loss=1.3231 test_acc=0.8500\n",
      "Ep 010 loss=0.5067 test_acc=0.8500\n",
      "Early stop @ 11, best 0.8500\n",
      "Subject A08 best acc=0.8500 (epoch 1)\n",
      "\n",
      "===== A09 =====\n"
     ]
    },
    {
     "name": "stderr",
     "output_type": "stream",
     "text": [
      "c:\\Users\\Sujal Bhatu\\AppData\\Local\\Programs\\Python\\Python312\\Lib\\contextlib.py:144: RuntimeWarning: Channel names are not unique, found duplicates for: {'EEG'}. Applying running numbers for duplicates.\n",
      "  next(self.gen)\n",
      "c:\\Users\\Sujal Bhatu\\AppData\\Local\\Programs\\Python\\Python312\\Lib\\contextlib.py:144: RuntimeWarning: Channel names are not unique, found duplicates for: {'EEG'}. Applying running numbers for duplicates.\n",
      "  next(self.gen)\n"
     ]
    },
    {
     "name": "stdout",
     "output_type": "stream",
     "text": [
      "Train (54, 25, 512), Test (27, 25, 512)\n",
      "Ep 001 loss=1.2606 test_acc=0.0370\n",
      "Ep 010 loss=0.3133 test_acc=0.8889\n",
      "Early stop @ 15, best 0.8889\n",
      "Subject A09 best acc=0.8889 (epoch 5)\n",
      "\n",
      "===== SUMMARY =====\n",
      "A01: 70.00%\n",
      "A02: 12.50%\n",
      "A03: 5.56%\n",
      "A04: 1.59%\n",
      "A05: 80.00%\n",
      "A06: 96.05%\n",
      "A07: 78.57%\n",
      "A08: 85.00%\n",
      "A09: 88.89%\n",
      "Mean accuracy: 57.57%  ± 36.79\n"
     ]
    }
   ],
   "source": [
    "subjects = [f\"A0{i}\" for i in range(1,10)]\n",
    "accs = []\n",
    "\n",
    "for subj in subjects:\n",
    "    train_path = os.path.join(DATA_ROOT, f\"{subj}T.gdf\")\n",
    "    test_path  = os.path.join(DATA_ROOT, f\"{subj}E.gdf\")\n",
    "    print(f\"\\n===== {subj} =====\")\n",
    "    Xtr,ytr,chs = load_bci_gdf(train_path)\n",
    "    Xte,yte,_   = load_bci_gdf(test_path)\n",
    "    print(f\"Train {Xtr.shape}, Test {Xte.shape}\")\n",
    "    tr_loader = DataLoader(TensorDataset(torch.tensor(Xtr),torch.tensor(ytr)), batch_size=BATCH, shuffle=True)\n",
    "    te_loader = DataLoader(TensorDataset(torch.tensor(Xte),torch.tensor(yte)), batch_size=BATCH, shuffle=False)\n",
    "\n",
    "    model = EEG_ARNN(nch=Xtr.shape[1], T0=Xtr.shape[2], ncls=4).to(device)\n",
    "    opt = torch.optim.Adam([p for n,p in model.named_parameters() if n!='W'], lr=LR)\n",
    "    crit = nn.CrossEntropyLoss()\n",
    "\n",
    "    best_acc, best_ep, patience = 0.0, 0, 0\n",
    "    for ep in range(1, EPOCHS+1):\n",
    "        loss = train_one_epoch(model,tr_loader,opt,crit)\n",
    "        acc = evaluate(model,te_loader)\n",
    "        if acc > best_acc:\n",
    "            best_acc, best_ep, patience = acc, ep, 0\n",
    "        else:\n",
    "            patience += 1\n",
    "        if patience >= PATIENCE:\n",
    "            print(f\"Early stop @ {ep}, best {best_acc:.4f}\")\n",
    "            break\n",
    "        if ep % 10 == 0 or ep==1:\n",
    "            print(f\"Ep {ep:03d} loss={loss:.4f} test_acc={acc:.4f}\")\n",
    "    accs.append(best_acc)\n",
    "    print(f\"Subject {subj} best acc={best_acc:.4f} (epoch {best_ep})\")\n",
    "\n",
    "print(\"\\n===== SUMMARY =====\")\n",
    "for s,a in zip(subjects,accs):\n",
    "    print(f\"{s}: {a*100:.2f}%\")\n",
    "print(f\"Mean accuracy: {np.mean(accs)*100:.2f}%  ± {np.std(accs)*100:.2f}\")\n"
   ]
  },
  {
   "cell_type": "code",
   "execution_count": 11,
   "id": "f5068308",
   "metadata": {},
   "outputs": [
    {
     "name": "stdout",
     "output_type": "stream",
     "text": [
      "FILE: ./../BCICIV_2a_gdf/A02T.gdf\n",
      "Raw info channels: 25\n",
      "First 30 channel names: ['EEG-Fz', 'EEG-0', 'EEG-1', 'EEG-2', 'EEG-3', 'EEG-4', 'EEG-5', 'EEG-C3', 'EEG-6', 'EEG-Cz', 'EEG-7', 'EEG-C4', 'EEG-8', 'EEG-9', 'EEG-10', 'EEG-11', 'EEG-12', 'EEG-13', 'EEG-14', 'EEG-Pz', 'EEG-15', 'EEG-16', 'EOG-left', 'EOG-central', 'EOG-right']\n",
      "\n",
      "First 20 annotations (description, onset [s], duration):\n",
      "32766 0.0 0.004\n",
      "276 0.0 126.048\n",
      "32766 126.052 0.004\n",
      "277 126.052 104.352\n",
      "32766 230.408 0.004\n",
      "1072 230.408 154.224\n",
      "32766 384.636 0.004\n",
      "768 386.036 7.5\n",
      "769 388.036 1.252\n",
      "768 394.048 7.5\n",
      "770 396.048 1.252\n",
      "768 401.72 7.5\n",
      "770 403.72 1.252\n",
      "768 409.528 7.5\n",
      "769 411.528 1.252\n",
      "768 417.56 7.5\n",
      "770 419.56 1.252\n",
      "768 426.004 7.5\n",
      "769 428.004 1.252\n",
      "768 433.672 7.5\n",
      "\n",
      "MNE event_id dict:\n",
      "{np.str_('1023'): 1,\n",
      " np.str_('1072'): 2,\n",
      " np.str_('276'): 3,\n",
      " np.str_('277'): 4,\n",
      " np.str_('32766'): 5,\n",
      " np.str_('768'): 6,\n",
      " np.str_('769'): 7,\n",
      " np.str_('770'): 8,\n",
      " np.str_('771'): 9,\n",
      " np.str_('772'): 10}\n",
      "\n",
      "Unique numeric event codes and counts (from events array):\n",
      "1 18\n",
      "2 1\n",
      "3 1\n",
      "4 1\n",
      "5 9\n",
      "6 288\n",
      "7 72\n",
      "8 72\n",
      "9 72\n",
      "10 72\n"
     ]
    },
    {
     "name": "stderr",
     "output_type": "stream",
     "text": [
      "c:\\Users\\Sujal Bhatu\\AppData\\Local\\Programs\\Python\\Python312\\Lib\\contextlib.py:144: RuntimeWarning: Channel names are not unique, found duplicates for: {'EEG'}. Applying running numbers for duplicates.\n",
      "  next(self.gen)\n"
     ]
    }
   ],
   "source": [
    "# DIAGNOSTIC: inspect .gdf file\n",
    "import numpy as np, re, pprint\n",
    "import mne\n",
    "\n",
    "def inspect_gdf(path):\n",
    "    print(\"FILE:\", path)\n",
    "    raw = mne.io.read_raw_gdf(path, preload=False, verbose=False)\n",
    "    print(\"Raw info channels:\", len(raw.ch_names))\n",
    "    print(\"First 30 channel names:\", raw.ch_names[:30])\n",
    "    # show if duplicate channel names exist\n",
    "    if len(set(raw.ch_names)) != len(raw.ch_names):\n",
    "        print(\"WARNING: duplicate channel names detected.\")\n",
    "    print(\"\\nFirst 20 annotations (description, onset [s], duration):\")\n",
    "    for a in raw.annotations[:20]:\n",
    "        print(a['description'], round(a['onset'],3), round(a['duration'],3))\n",
    "    # events_from_annotations\n",
    "    events, event_id = mne.events_from_annotations(raw, verbose=False)\n",
    "    print(\"\\nMNE event_id dict:\")\n",
    "    pprint.pprint(event_id)\n",
    "    unique, counts = np.unique(events[:,2], return_counts=True)\n",
    "    print(\"\\nUnique numeric event codes and counts (from events array):\")\n",
    "    for u,c in zip(unique, counts):\n",
    "        print(u, c)\n",
    "    return raw, events, event_id\n",
    "\n",
    "# Example usage (change to a subject file)\n",
    "raw, events, event_id = inspect_gdf(\"./../BCICIV_2a_gdf/A02T.gdf\")\n"
   ]
  },
  {
   "cell_type": "code",
   "execution_count": null,
   "id": "6fffa7b1",
   "metadata": {},
   "outputs": [],
   "source": []
  }
 ],
 "metadata": {
  "kernelspec": {
   "display_name": "Python 3",
   "language": "python",
   "name": "python3"
  },
  "language_info": {
   "codemirror_mode": {
    "name": "ipython",
    "version": 3
   },
   "file_extension": ".py",
   "mimetype": "text/x-python",
   "name": "python",
   "nbconvert_exporter": "python",
   "pygments_lexer": "ipython3",
   "version": "3.12.9"
  }
 },
 "nbformat": 4,
 "nbformat_minor": 5
}
